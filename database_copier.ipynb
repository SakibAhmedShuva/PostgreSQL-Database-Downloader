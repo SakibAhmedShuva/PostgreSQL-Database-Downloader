{
 "cells": [
  {
   "cell_type": "markdown",
   "metadata": {},
   "source": [
    "# Install necessary libraries"
   ]
  },
  {
   "cell_type": "code",
   "execution_count": null,
   "metadata": {},
   "outputs": [],
   "source": [
    "!pip install psycopg2-binary python-dotenv"
   ]
  },
  {
   "cell_type": "markdown",
   "metadata": {},
   "source": [
    "# Import necessary libraries"
   ]
  },
  {
   "cell_type": "code",
   "execution_count": 8,
   "metadata": {},
   "outputs": [],
   "source": [
    "import os\n",
    "import psycopg2\n",
    "import csv\n",
    "from typing import List\n",
    "from dotenv import load_dotenv\n",
    "from datetime import datetime"
   ]
  },
  {
   "cell_type": "markdown",
   "metadata": {},
   "source": [
    "# Defining functions"
   ]
  },
  {
   "cell_type": "markdown",
   "metadata": {},
   "source": [
    "### Selective column export"
   ]
  },
  {
   "cell_type": "code",
   "execution_count": 9,
   "metadata": {},
   "outputs": [],
   "source": [
    "def load_db_config() -> dict:\n",
    "    \"\"\"Load database configuration from environment variables.\"\"\"\n",
    "    load_dotenv()\n",
    "    return {\n",
    "        'dbname': os.getenv('DB_NAME'),\n",
    "        'user': os.getenv('DB_USERNAME'),\n",
    "        'password': os.getenv('DB_PASS'),\n",
    "        'host': os.getenv('DB_HOST'),\n",
    "        'port': os.getenv('DB_PORT')\n",
    "    }\n",
    "\n",
    "def export_to_csv(columns: List[str], output_file: str = 'user_export.csv') -> None:\n",
    "    \"\"\"\n",
    "    Export specified columns from the user table to a CSV file.\n",
    "    \n",
    "    Args:\n",
    "        columns: List of column names to export\n",
    "        output_file: Name of the output CSV file\n",
    "    \"\"\"\n",
    "    try:\n",
    "        # Connect to the database\n",
    "        db_config = load_db_config()\n",
    "        conn = psycopg2.connect(**db_config)\n",
    "        cursor = conn.cursor()\n",
    "        \n",
    "        # Create the SQL query with schema.table name\n",
    "        columns_str = ', '.join(columns)\n",
    "        query = f'SELECT {columns_str} FROM public.user'\n",
    "        \n",
    "        # Execute the query\n",
    "        cursor.execute(query)\n",
    "        \n",
    "        # Write to CSV\n",
    "        with open(output_file, 'w', newline='', encoding='utf-8') as f:\n",
    "            writer = csv.writer(f)\n",
    "            # Write header\n",
    "            writer.writerow(columns)\n",
    "            # Write data\n",
    "            for row in cursor:\n",
    "                writer.writerow(row)\n",
    "        \n",
    "        print(f\"Data successfully exported to {output_file}\")\n",
    "        \n",
    "    except psycopg2.Error as e:\n",
    "        print(f\"Database error: {e}\")\n",
    "    except Exception as e:\n",
    "        print(f\"Error: {e}\")\n",
    "    finally:\n",
    "        if 'cursor' in locals():\n",
    "            cursor.close()\n",
    "        if 'conn' in locals():\n",
    "            conn.close()"
   ]
  },
  {
   "cell_type": "markdown",
   "metadata": {},
   "source": [
    "# Execution"
   ]
  },
  {
   "cell_type": "code",
   "execution_count": 10,
   "metadata": {},
   "outputs": [
    {
     "name": "stdout",
     "output_type": "stream",
     "text": [
      "Data successfully exported to user_export.csv\n"
     ]
    }
   ],
   "source": [
    "if __name__ == \"__main__\":\n",
    "    # Example usage\n",
    "    columns_to_export = [\"id\", \"email\", \"password\", \"role\"]\n",
    "    export_to_csv(columns_to_export)"
   ]
  },
  {
   "cell_type": "markdown",
   "metadata": {},
   "source": [
    "# Full table export"
   ]
  },
  {
   "cell_type": "code",
   "execution_count": 7,
   "metadata": {},
   "outputs": [
    {
     "name": "stdout",
     "output_type": "stream",
     "text": [
      "Full table successfully exported to user_table_export_20241230_220628.csv\n",
      "Total columns exported: 28\n",
      "Columns: id, email, password, role, isConfirmed, isActive, fullName, profilePicture, countryId, phone, additionalPhone, address01, address02, dateOfBirth, gender, createdAt, updatedAt, brandId, verificationToken, userId, isDeleted, isUserRegisterForBrand, passWordChangeRequest, isOwner, isBiometric, newPassword, contactPersonId, isBlocked\n"
     ]
    }
   ],
   "source": [
    "def load_db_config() -> dict:\n",
    "    \"\"\"Load database configuration from environment variables.\"\"\"\n",
    "    load_dotenv()\n",
    "    return {\n",
    "        'dbname': os.getenv('DB_NAME'),\n",
    "        'user': os.getenv('DB_USERNAME'),\n",
    "        'password': os.getenv('DB_PASS'),\n",
    "        'host': os.getenv('DB_HOST'),\n",
    "        'port': os.getenv('DB_PORT')\n",
    "    }\n",
    "\n",
    "def export_full_table_to_csv():\n",
    "    \"\"\"Export the entire user table to a CSV file with timestamp in filename.\"\"\"\n",
    "    try:\n",
    "        # Connect to the database\n",
    "        db_config = load_db_config()\n",
    "        conn = psycopg2.connect(**db_config)\n",
    "        cursor = conn.cursor()\n",
    "        \n",
    "        # Get column names\n",
    "        cursor.execute(\"\"\"\n",
    "            SELECT column_name \n",
    "            FROM information_schema.columns \n",
    "            WHERE table_schema = 'public' \n",
    "            AND table_name = 'user'\n",
    "            ORDER BY ordinal_position;\n",
    "        \"\"\")\n",
    "        columns = [col[0] for col in cursor.fetchall()]\n",
    "        \n",
    "        # Create filename with timestamp\n",
    "        timestamp = datetime.now().strftime('%Y%m%d_%H%M%S')\n",
    "        filename = f'user_table_export_{timestamp}.csv'\n",
    "        \n",
    "        # Execute the query for all data\n",
    "        cursor.execute('SELECT * FROM public.user')\n",
    "        \n",
    "        # Write to CSV\n",
    "        with open(filename, 'w', newline='', encoding='utf-8') as f:\n",
    "            writer = csv.writer(f)\n",
    "            # Write header\n",
    "            writer.writerow(columns)\n",
    "            # Write data\n",
    "            for row in cursor:\n",
    "                writer.writerow(row)\n",
    "        \n",
    "        print(f\"Full table successfully exported to {filename}\")\n",
    "        print(f\"Total columns exported: {len(columns)}\")\n",
    "        print(f\"Columns: {', '.join(columns)}\")\n",
    "        \n",
    "    except psycopg2.Error as e:\n",
    "        print(f\"Database error: {e}\")\n",
    "    except Exception as e:\n",
    "        print(f\"Error: {e}\")\n",
    "    finally:\n",
    "        if 'cursor' in locals():\n",
    "            cursor.close()\n",
    "        if 'conn' in locals():\n",
    "            conn.close()\n",
    "\n",
    "if __name__ == \"__main__\":\n",
    "    export_full_table_to_csv()"
   ]
  },
  {
   "cell_type": "code",
   "execution_count": null,
   "metadata": {},
   "outputs": [],
   "source": []
  }
 ],
 "metadata": {
  "kernelspec": {
   "display_name": "Python 3",
   "language": "python",
   "name": "python3"
  },
  "language_info": {
   "codemirror_mode": {
    "name": "ipython",
    "version": 3
   },
   "file_extension": ".py",
   "mimetype": "text/x-python",
   "name": "python",
   "nbconvert_exporter": "python",
   "pygments_lexer": "ipython3",
   "version": "3.12.8"
  }
 },
 "nbformat": 4,
 "nbformat_minor": 2
}
